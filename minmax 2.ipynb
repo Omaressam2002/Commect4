{
 "cells": [
  {
   "cell_type": "code",
   "execution_count": 6,
   "id": "5fc80d47-a5ce-4cf1-a9eb-6da87fa5d808",
   "metadata": {},
   "outputs": [],
   "source": [
    "import math\n",
    "alpha = -math.inf\n",
    "beta = math.inf\n",
    "\n",
    "# TODOS heuristic\n",
    "# eliminate based on k\n",
    "# state object\n",
    "\n",
    "\n",
    "#1 - we want state to be a string\n",
    "#2 - k to be passed thru the function\n",
    "#3 - if visited dont visit again\n",
    "\n",
    "# visited values :  a dict with keys as the state and values as the heuristic value\n",
    "# set of visited nodes to check if the \n",
    "def Maximize(state,k):\n",
    "    if state in visited_nodes:\n",
    "        # return visited_values[state]\n",
    "    if k == 0 or terminal_test(state) :\n",
    "        return None,heuristic(state)\n",
    "    max_child,max_utility = None, -math.inf\n",
    "    for child in state.children:\n",
    "        _,utility , k = Minimize(child,k)\n",
    "        # add to visited node\n",
    "        if utility > max_utility :\n",
    "            max_child , max_utility = child , utility\n",
    "            # state : max_utility to visited values\n",
    "    k-=1\n",
    "    return max_child , max_utility , k\n",
    "\n",
    "\n",
    "def Minimize(state,k):\n",
    "    if k == 0 or terminal_test(state):\n",
    "        return None,heuristic(state)\n",
    "\n",
    "    min_child,min_utility = None, math.inf\n",
    "    for child in state.children:\n",
    "        _,utility , k = Maximize(child,k)\n",
    "        if utility < min_utility :\n",
    "            min_child , min_utility = child , utility\n",
    "    k-=1\n",
    "    return min_child , min_utility , k\n",
    "\n",
    "def Maximize_alpha_beta(state,alpha=-math.inf,beta=math.inf,k=0):\n",
    "    if k == 0 or terminal_test(state):\n",
    "        return None,heuristic(state)\n",
    "    max_child,max_utility = None, -math.inf\n",
    "    for child in state.children:\n",
    "        _ , utility , alpha , beta , k = Minimize_alpha_beta(child,alpha,beta,k)\n",
    "        if utility > max_utility :\n",
    "            max_child , max_utility = child , utility\n",
    "        if max_utility >= beta:\n",
    "            break\n",
    "        if max_utility > alpha: \n",
    "            alpha = max_utility\n",
    "    k-=1\n",
    "    return max_child , max_utility , alpha , beta , k\n",
    "\n",
    "def Minimize_alpha_beta(state,alpha=-math.inf,beta=math.inf,k=0):\n",
    "    if k == 0 or terminal_test(state):\n",
    "        return None,heuristic(state)\n",
    "    min_child,min_utility = None, math.inf\n",
    "    for child in state.children:\n",
    "        _, utility , alpha , beta , k = Maximize_alpha_beta(child,alpha,beta,k)\n",
    "        if utility < min_utility :\n",
    "            min_child , min_utility = child , utility\n",
    "        if min_utility <= alpha:\n",
    "            break\n",
    "        if min_utility < beta: \n",
    "            beta = min_utility\n",
    "    k-=1\n",
    "    return min_child , min_utility , alpha , beta , k\n",
    "\n",
    "def terminal_test(state):\n",
    "    # check for winning only\n",
    "    pass\n",
    "def heuristic(state):\n",
    "    # returns an int, +ve points for max , -ve points for min\n",
    "    pass"
   ]
  },
  {
   "cell_type": "code",
   "execution_count": 4,
   "id": "c662bbc7-1cf5-42bf-b407-6fb2aef9b07c",
   "metadata": {},
   "outputs": [
    {
     "name": "stdout",
     "output_type": "stream",
     "text": [
      "xYZ\n"
     ]
    }
   ],
   "source": [
    "def func(x):\n",
    "    x = list(x)\n",
    "    x[0] = \"X\"\n",
    "    x = str(x)\n",
    "x = \"xYZ\"\n",
    "x = func(x)\n",
    "print(x)"
   ]
  },
  {
   "cell_type": "code",
   "execution_count": 3,
   "id": "69ce48b3-99a4-403e-b901-7ca24af4b9c2",
   "metadata": {},
   "outputs": [],
   "source": [
    "import numpy as np\n",
    "import sys\n",
    "import time\n",
    "import random\n",
    "\n",
    "\n",
    "DIMENSIONS = (4,4)\n",
    "MAX_DEPTH = 5\n",
    "\n",
    "class State:\n",
    "    def __init__(self):\n",
    "        self.board = np.zeros((DIMENSIONS[0],DIMENSIONS[1]), dtype=int)\n",
    "        self.children = []\n",
    "        self.parent = None\n",
    "        self.level = 0\n",
    "    \n",
    "    def __str__(self):\n",
    "        return str(self.board)\n",
    "    \n",
    "    def setParent(self,parent):\n",
    "        self.parent = parent\n",
    "        self.parent.children.append(self)\n",
    "        self.level = self.parent.level + 1"
   ]
  },
  {
   "cell_type": "code",
   "execution_count": 4,
   "id": "a11393ee-3422-4986-8461-3ed2a3997f5a",
   "metadata": {},
   "outputs": [
    {
     "data": {
      "text/plain": [
       "'[[0 0 0 0]\\n [0 0 0 0]\\n [0 0 0 0]\\n [0 0 0 0]]'"
      ]
     },
     "execution_count": 4,
     "metadata": {},
     "output_type": "execute_result"
    }
   ],
   "source": [
    "s= State()\n",
    "s.__str__()"
   ]
  },
  {
   "cell_type": "code",
   "execution_count": 5,
   "id": "fb3eba21-9f5e-40eb-b3f7-a83a3f7e90e6",
   "metadata": {},
   "outputs": [],
   "source": [
    "import numpy as np\n",
    "import sys\n",
    "import time\n",
    "import random\n",
    "\n",
    "# DIMENSIONS = (6,7)\n",
    "DIMENSIONS = (4,4)\n",
    "MAX_DEPTH = 5\n",
    "\n",
    "class State:\n",
    "    def __init__(self,board=None):\n",
    "        if board:\n",
    "            self.board = board\n",
    "        else :\n",
    "            self.board = np.zeros((DIMENSIONS[0],DIMENSIONS[1]), dtype=int)\n",
    "        self.children = []\n",
    "        self.parent = None\n",
    "        self.level = 0\n",
    "    \n",
    "    def __str__(self):\n",
    "        return str(self.board)\n",
    "    \n",
    "    def setParent(self,parent):\n",
    "        self.parent = parent\n",
    "        self.parent.children.append(self)\n",
    "        self.level = self.parent.level + 1"
   ]
  },
  {
   "cell_type": "code",
   "execution_count": 24,
   "id": "e9c50470-35f7-4002-be7e-8253e40684b6",
   "metadata": {},
   "outputs": [
    {
     "name": "stdout",
     "output_type": "stream",
     "text": [
      "[[0 0 0 0]\n",
      " [0 0 0 0]\n",
      " [0 0 0 0]\n",
      " [1 0 0 0]]\n",
      "\n"
     ]
    },
    {
     "name": "stdin",
     "output_type": "stream",
     "text": [
      "Enter 4 elements for row 1 separated by spaces:  0 0 0 0 \n",
      "Enter 4 elements for row 2 separated by spaces:  0 0 0 0 \n",
      "Enter 4 elements for row 3 separated by spaces:  0 0 0 0 \n",
      "Enter 4 elements for row 4 separated by spaces:  0 2 0 0\n"
     ]
    },
    {
     "name": "stdout",
     "output_type": "stream",
     "text": [
      "\n",
      "[[0 0 0 0]\n",
      " [0 0 0 0]\n",
      " [0 1 0 0]\n",
      " [0 2 0 0]]\n",
      "\n"
     ]
    },
    {
     "ename": "KeyboardInterrupt",
     "evalue": "Interrupted by user",
     "output_type": "error",
     "traceback": [
      "\u001b[0;31m---------------------------------------------------------------------------\u001b[0m",
      "\u001b[0;31mKeyboardInterrupt\u001b[0m                         Traceback (most recent call last)",
      "Cell \u001b[0;32mIn[24], line 195\u001b[0m\n\u001b[1;32m    192\u001b[0m \u001b[38;5;28mprint\u001b[39m(child)\n\u001b[1;32m    193\u001b[0m \u001b[38;5;28mprint\u001b[39m()\n\u001b[0;32m--> 195\u001b[0m array \u001b[38;5;241m=\u001b[39m \u001b[43minput_array\u001b[49m\u001b[43m(\u001b[49m\u001b[43m)\u001b[49m\n\u001b[1;32m    197\u001b[0m \u001b[38;5;28mprint\u001b[39m()\n\u001b[1;32m    198\u001b[0m time\u001b[38;5;241m.\u001b[39msleep(\u001b[38;5;241m0.25\u001b[39m)\n",
      "Cell \u001b[0;32mIn[24], line 171\u001b[0m, in \u001b[0;36minput_array\u001b[0;34m()\u001b[0m\n\u001b[1;32m    169\u001b[0m array_4x4 \u001b[38;5;241m=\u001b[39m []\n\u001b[1;32m    170\u001b[0m \u001b[38;5;28;01mfor\u001b[39;00m i \u001b[38;5;129;01min\u001b[39;00m \u001b[38;5;28mrange\u001b[39m(\u001b[38;5;241m4\u001b[39m):\n\u001b[0;32m--> 171\u001b[0m     row \u001b[38;5;241m=\u001b[39m \u001b[38;5;28;43minput\u001b[39;49m\u001b[43m(\u001b[49m\u001b[38;5;124;43mf\u001b[39;49m\u001b[38;5;124;43m\"\u001b[39;49m\u001b[38;5;124;43mEnter 4 elements for row \u001b[39;49m\u001b[38;5;132;43;01m{\u001b[39;49;00m\u001b[43mi\u001b[49m\u001b[38;5;250;43m \u001b[39;49m\u001b[38;5;241;43m+\u001b[39;49m\u001b[38;5;250;43m \u001b[39;49m\u001b[38;5;241;43m1\u001b[39;49m\u001b[38;5;132;43;01m}\u001b[39;49;00m\u001b[38;5;124;43m separated by spaces: \u001b[39;49m\u001b[38;5;124;43m\"\u001b[39;49m\u001b[43m)\u001b[49m\u001b[38;5;241m.\u001b[39msplit()\n\u001b[1;32m    173\u001b[0m     \u001b[38;5;66;03m# Check if the user entered exactly 4 elements\u001b[39;00m\n\u001b[1;32m    174\u001b[0m     \u001b[38;5;28;01mif\u001b[39;00m \u001b[38;5;28mlen\u001b[39m(row) \u001b[38;5;241m!=\u001b[39m \u001b[38;5;241m4\u001b[39m:\n",
      "File \u001b[0;32m~/pytorch-test/env/lib/python3.9/site-packages/ipykernel/kernelbase.py:1202\u001b[0m, in \u001b[0;36mKernel.raw_input\u001b[0;34m(self, prompt)\u001b[0m\n\u001b[1;32m   1200\u001b[0m     msg \u001b[38;5;241m=\u001b[39m \u001b[38;5;124m\"\u001b[39m\u001b[38;5;124mraw_input was called, but this frontend does not support input requests.\u001b[39m\u001b[38;5;124m\"\u001b[39m\n\u001b[1;32m   1201\u001b[0m     \u001b[38;5;28;01mraise\u001b[39;00m StdinNotImplementedError(msg)\n\u001b[0;32m-> 1202\u001b[0m \u001b[38;5;28;01mreturn\u001b[39;00m \u001b[38;5;28;43mself\u001b[39;49m\u001b[38;5;241;43m.\u001b[39;49m\u001b[43m_input_request\u001b[49m\u001b[43m(\u001b[49m\n\u001b[1;32m   1203\u001b[0m \u001b[43m    \u001b[49m\u001b[38;5;28;43mstr\u001b[39;49m\u001b[43m(\u001b[49m\u001b[43mprompt\u001b[49m\u001b[43m)\u001b[49m\u001b[43m,\u001b[49m\n\u001b[1;32m   1204\u001b[0m \u001b[43m    \u001b[49m\u001b[38;5;28;43mself\u001b[39;49m\u001b[38;5;241;43m.\u001b[39;49m\u001b[43m_parent_ident\u001b[49m\u001b[43m[\u001b[49m\u001b[38;5;124;43m\"\u001b[39;49m\u001b[38;5;124;43mshell\u001b[39;49m\u001b[38;5;124;43m\"\u001b[39;49m\u001b[43m]\u001b[49m\u001b[43m,\u001b[49m\n\u001b[1;32m   1205\u001b[0m \u001b[43m    \u001b[49m\u001b[38;5;28;43mself\u001b[39;49m\u001b[38;5;241;43m.\u001b[39;49m\u001b[43mget_parent\u001b[49m\u001b[43m(\u001b[49m\u001b[38;5;124;43m\"\u001b[39;49m\u001b[38;5;124;43mshell\u001b[39;49m\u001b[38;5;124;43m\"\u001b[39;49m\u001b[43m)\u001b[49m\u001b[43m,\u001b[49m\n\u001b[1;32m   1206\u001b[0m \u001b[43m    \u001b[49m\u001b[43mpassword\u001b[49m\u001b[38;5;241;43m=\u001b[39;49m\u001b[38;5;28;43;01mFalse\u001b[39;49;00m\u001b[43m,\u001b[49m\n\u001b[1;32m   1207\u001b[0m \u001b[43m\u001b[49m\u001b[43m)\u001b[49m\n",
      "File \u001b[0;32m~/pytorch-test/env/lib/python3.9/site-packages/ipykernel/kernelbase.py:1245\u001b[0m, in \u001b[0;36mKernel._input_request\u001b[0;34m(self, prompt, ident, parent, password)\u001b[0m\n\u001b[1;32m   1242\u001b[0m \u001b[38;5;28;01mexcept\u001b[39;00m \u001b[38;5;167;01mKeyboardInterrupt\u001b[39;00m:\n\u001b[1;32m   1243\u001b[0m     \u001b[38;5;66;03m# re-raise KeyboardInterrupt, to truncate traceback\u001b[39;00m\n\u001b[1;32m   1244\u001b[0m     msg \u001b[38;5;241m=\u001b[39m \u001b[38;5;124m\"\u001b[39m\u001b[38;5;124mInterrupted by user\u001b[39m\u001b[38;5;124m\"\u001b[39m\n\u001b[0;32m-> 1245\u001b[0m     \u001b[38;5;28;01mraise\u001b[39;00m \u001b[38;5;167;01mKeyboardInterrupt\u001b[39;00m(msg) \u001b[38;5;28;01mfrom\u001b[39;00m \u001b[38;5;28;01mNone\u001b[39;00m\n\u001b[1;32m   1246\u001b[0m \u001b[38;5;28;01mexcept\u001b[39;00m \u001b[38;5;167;01mException\u001b[39;00m:\n\u001b[1;32m   1247\u001b[0m     \u001b[38;5;28mself\u001b[39m\u001b[38;5;241m.\u001b[39mlog\u001b[38;5;241m.\u001b[39mwarning(\u001b[38;5;124m\"\u001b[39m\u001b[38;5;124mInvalid Message:\u001b[39m\u001b[38;5;124m\"\u001b[39m, exc_info\u001b[38;5;241m=\u001b[39m\u001b[38;5;28;01mTrue\u001b[39;00m)\n",
      "\u001b[0;31mKeyboardInterrupt\u001b[0m: Interrupted by user"
     ]
    }
   ],
   "source": [
    "def decision(state,verbose=False):\n",
    "    # Resetting the state each decision\n",
    "    state_reset = State()\n",
    "    state_reset.board = np.copy(state.board)\n",
    "    visited = dict({})\n",
    "    child,_ = maximize(state_reset,visited)\n",
    "    return child\n",
    "\n",
    "def generate_children(state,player,verbose=False):\n",
    "    for j in range(DIMENSIONS[1]):\n",
    "        for i in range(DIMENSIONS[0]-1 , -1, -1):\n",
    "            if state.board[i][j] == 0:\n",
    "                child = State()\n",
    "                child.board = np.copy(state.board)\n",
    "                child.board[i][j] = player\n",
    "                child.setParent(state)\n",
    "                if verbose:\n",
    "                    print(child)\n",
    "                    print()\n",
    "                    # time.sleep(0.5)\n",
    "                break\n",
    "\n",
    "# dict yekoon el el key beta3o state.__str__ we awel mate7seblo el minimax value beta3 el state\n",
    "def maximize(state,visited):\n",
    "    \n",
    "    visited_nodes = set(visited.keys())\n",
    "    state_str = state.__str__()\n",
    "    if state_str in visited_nodes:\n",
    "        return None,visited[state_str]\n",
    "\n",
    "    # either the board is full or the level == k\n",
    "    if is_terminal(state):\n",
    "        hn = heuristic(state)\n",
    "        visited[state_str] = hn\n",
    "        return None, hn\n",
    "    \n",
    "    max_child = None\n",
    "    max_utility = -sys.maxsize\n",
    "    \n",
    "    generate_children(state,1)\n",
    "\n",
    "    # han add fen we ne update el weights fen??\n",
    "    for child in state.children:\n",
    "        _, utility = minimize(child,visited)\n",
    "        if utility > max_utility:\n",
    "            max_child = child\n",
    "            max_utility = utility\n",
    "    \n",
    "    visited[state.__str__()] = max_utility\n",
    "    # 3awzeen max depth+el string el benecreate minno el states tet7at fel header beta3 el function 3ashan hana5odha min el gui\n",
    "    return max_child, max_utility\n",
    "\n",
    "            \n",
    "def minimize(state,visited):\n",
    "    visited_nodes = set(visited.keys())\n",
    "    state_str = state.__str__()\n",
    "    if state_str in visited_nodes:\n",
    "        return None,visited[state_str]\n",
    "\n",
    "    # either the board is full or the level == k\n",
    "    if is_terminal(state):\n",
    "        hn = heuristic(state)\n",
    "        visited[state_str] = hn\n",
    "        return None, hn\n",
    "\n",
    "    min_child = None\n",
    "    min_utility = sys.maxsize\n",
    "    generate_children(state,2)\n",
    "\n",
    "    for child in state.children:\n",
    "        _, utility = maximize(child,visited)\n",
    "        if utility < min_utility:\n",
    "            min_child = child\n",
    "            min_utility = utility\n",
    "\n",
    "    visited[state.__str__()] = min_utility\n",
    "    return min_child, min_utility\n",
    "\n",
    "def is_terminal(state):\n",
    "    # further improvement check the first row only for complexity --- we momkin da bardo\n",
    "    # 0 not in de momkin ne8ayarha be enina ne3mil counter lil peices 3ashan el check haye7sal keteer\n",
    "    if state.level == (6*7) or state.level >= MAX_DEPTH:\n",
    "        return True\n",
    "    return False\n",
    "\n",
    "def heuristic(state):\n",
    "    # basic heuristic for now \n",
    "    if who_win(state) == 1:\n",
    "        return 1000\n",
    "    elif who_win(state) == 2:\n",
    "        return -1000\n",
    "    return random.randint(-100,100)\n",
    "\n",
    "\n",
    "# momkin ne7tag-ha fe 7esabet el scores\n",
    "# + check 3ala el diagonal el 3aksy\n",
    "\n",
    "def who_win(state):\n",
    "    '''\n",
    "    Returns 1 if player 1 wins, 2 if player 2 wins, 0 if no one wins\n",
    "    '''\n",
    "    # Check horizontal\n",
    "    for i in range(DIMENSIONS[0]):\n",
    "        for j in range(DIMENSIONS[1]-3):\n",
    "            condition_win = state.board[i][j] == state.board[i][j+1] == state.board[i][j+2] == state.board[i][j+3] == 1\n",
    "            condition_lose = state.board[i][j] == state.board[i][j+1] == state.board[i][j+2] == state.board[i][j+3] == 2\n",
    "\n",
    "            if condition_win:\n",
    "                return 1\n",
    "            elif condition_lose:\n",
    "                return 2\n",
    "            \n",
    "    # Check vertical\n",
    "    for i in range(DIMENSIONS[0]-3):\n",
    "        for j in range(DIMENSIONS[1]):\n",
    "            condition_win = state.board[i][j] == state.board[i+1][j] == state.board[i+2][j] == state.board[i+3][j] == 1\n",
    "            condition_lose = state.board[i][j] == state.board[i+1][j] == state.board[i+2][j] == state.board[i+3][j] == 2\n",
    "\n",
    "            if condition_win:\n",
    "                return 1\n",
    "            elif condition_lose:\n",
    "                return 2\n",
    "            \n",
    "    # Check diagonal\n",
    "    for i in range(DIMENSIONS[0]-3):\n",
    "        for j in range(DIMENSIONS[1]-3):\n",
    "            condition_win = state.board[i][j] == state.board[i+1][j+1] == state.board[i+2][j+2] == state.board[i+3][j+3] == 1\n",
    "            condition_lose = state.board[i][j] == state.board[i+1][j+1] == state.board[i+2][j+2] == state.board[i+3][j+3] == 2\n",
    "            if condition_win:\n",
    "                return 1\n",
    "            elif condition_lose:\n",
    "                return 2\n",
    "            \n",
    "    # Check anti-diagonal\n",
    "    for i in range(DIMENSIONS[0]-3):\n",
    "        for j in range(3, DIMENSIONS[1]):\n",
    "            condition_win = state.board[i][j] == state.board[i+1][j-1] == state.board[i+2][j-2] == state.board[i+3][j-3] == 1\n",
    "            condition_lose = state.board[i][j] == state.board[i+1][j-1] == state.board[i+2][j-2] == state.board[i+3][j-3] == 2\n",
    "            \n",
    "            if condition_win:\n",
    "                return 1\n",
    "            elif condition_lose:\n",
    "                return 2\n",
    "    \n",
    "    return 0\n",
    "\n",
    "# def input_array():\n",
    "#     array_4x4 = []\n",
    "#     for i in range(4):\n",
    "#         row = input(f\"Enter 4 elements for row {i + 1} separated by spaces: \").split()\n",
    "        \n",
    "#         # Check if the user entered exactly 4 elements\n",
    "#         if len(row) != 4:\n",
    "#             print(\"Please enter exactly 4 elements for each row.\")\n",
    "#             break\n",
    "        \n",
    "#         # Convert input elements to integers and append to the array\n",
    "#         row = [int(element) for element in row]\n",
    "#         array_4x4.append(row)\n",
    "    \n",
    "#     array = np.array(array_4x4)\n",
    "\n",
    "#     return array\n",
    "\n",
    "def input_array():\n",
    "    array_4x4 = []\n",
    "    for i in range(4):\n",
    "        row = input(f\"Enter 4 elements for row {i + 1} separated by spaces: \").split()\n",
    "        \n",
    "        # Check if the user entered exactly 4 elements\n",
    "        if len(row) != 4:\n",
    "            print(\"Please enter exactly 4 elements for each row.\")\n",
    "            break\n",
    "        \n",
    "        # Convert input elements to integers and append to the array\n",
    "        row = [int(element) for element in row]\n",
    "        array_4x4.append(row)\n",
    "    \n",
    "    array = np.array(array_4x4)\n",
    "\n",
    "    return array\n",
    "\n",
    "state = State()\n",
    "while(1):\n",
    "    child = decision(state,verbose=False)\n",
    "    if child is None:\n",
    "        print(\"Game end\")\n",
    "        exit()\n",
    "    print(child)\n",
    "    print()\n",
    "\n",
    "    array = input_array()\n",
    "    \n",
    "    print()\n",
    "    time.sleep(0.25)\n",
    "    state.board = np.copy(array)"
   ]
  },
  {
   "cell_type": "code",
   "execution_count": 33,
   "id": "c7f5564b-ff97-4aee-a83a-4254ba7a2d36",
   "metadata": {},
   "outputs": [
    {
     "name": "stdout",
     "output_type": "stream",
     "text": [
      "True\n",
      "[1, 2, 3, 4]\n"
     ]
    }
   ],
   "source": [
    "l = [1,2,3,4]\n",
    "def k(l):\n",
    "    print(l[2] == 3)\n",
    "k(l)\n",
    "print(l)"
   ]
  },
  {
   "cell_type": "code",
   "execution_count": 37,
   "id": "cbdac2b9-5967-4398-8143-491c8ee15a71",
   "metadata": {},
   "outputs": [
    {
     "ename": "AttributeError",
     "evalue": "'list' object has no attribute 'deque'",
     "output_type": "error",
     "traceback": [
      "\u001b[0;31m---------------------------------------------------------------------------\u001b[0m",
      "\u001b[0;31mAttributeError\u001b[0m                            Traceback (most recent call last)",
      "Cell \u001b[0;32mIn[37], line 1\u001b[0m\n\u001b[0;32m----> 1\u001b[0m \u001b[43ml\u001b[49m\u001b[38;5;241;43m.\u001b[39;49m\u001b[43mdeque\u001b[49m(\u001b[38;5;241m0\u001b[39m)\n",
      "\u001b[0;31mAttributeError\u001b[0m: 'list' object has no attribute 'deque'"
     ]
    }
   ],
   "source": [
    "l.deque(0)"
   ]
  },
  {
   "cell_type": "code",
   "execution_count": 48,
   "id": "cd2b9c78-780b-46f1-8fcb-58658bdf476b",
   "metadata": {},
   "outputs": [
    {
     "data": {
      "text/plain": [
       "array([5, 6, 7])"
      ]
     },
     "execution_count": 48,
     "metadata": {},
     "output_type": "execute_result"
    }
   ],
   "source": [
    "import random \n",
    "np.arange(5, 8)"
   ]
  },
  {
   "cell_type": "code",
   "execution_count": 67,
   "id": "8a66cb2a-dbcc-4d61-a20a-768b978ff92e",
   "metadata": {},
   "outputs": [
    {
     "data": {
      "text/plain": [
       "7"
      ]
     },
     "execution_count": 67,
     "metadata": {},
     "output_type": "execute_result"
    }
   ],
   "source": [
    "np.random.choice(np.arange(5, 8), p=[0.2,0.6,0.2])"
   ]
  },
  {
   "cell_type": "code",
   "execution_count": null,
   "id": "48ade9ef-e3e5-4f7c-aa74-2576b180931d",
   "metadata": {},
   "outputs": [],
   "source": []
  }
 ],
 "metadata": {
  "kernelspec": {
   "display_name": "Python 3 (ipykernel)",
   "language": "python",
   "name": "python3"
  },
  "language_info": {
   "codemirror_mode": {
    "name": "ipython",
    "version": 3
   },
   "file_extension": ".py",
   "mimetype": "text/x-python",
   "name": "python",
   "nbconvert_exporter": "python",
   "pygments_lexer": "ipython3",
   "version": "3.9.16"
  }
 },
 "nbformat": 4,
 "nbformat_minor": 5
}
