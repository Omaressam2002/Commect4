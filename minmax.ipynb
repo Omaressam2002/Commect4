{
 "cells": [
  {
   "cell_type": "code",
   "execution_count": 6,
   "id": "5fc80d47-a5ce-4cf1-a9eb-6da87fa5d808",
   "metadata": {},
   "outputs": [],
   "source": [
    "import math\n",
    "alpha = -math.inf\n",
    "beta = math.inf\n",
    "\n",
    "# TODOS heuristic\n",
    "# eliminate based on k\n",
    "# state object\n",
    "\n",
    "\n",
    "#1 - we want state to be a string\n",
    "#2 - k to be passed thru the function\n",
    "#3 - if visited dont visit again\n",
    "\n",
    "# visited values :  a dict with keys as the state and values as the heuristic value\n",
    "# set of visited nodes to check if the \n",
    "def Maximize(state,k):\n",
    "    if state in visited_nodes:\n",
    "        # return visited_values[state]\n",
    "    if k == 0 or terminal_test(state) :\n",
    "        return None,heuristic(state)\n",
    "    max_child,max_utility = None, -math.inf\n",
    "    for child in state.children:\n",
    "        _,utility , k = Minimize(child,k)\n",
    "        # add to visited node\n",
    "        if utility > max_utility :\n",
    "            max_child , max_utility = child , utility\n",
    "            # state : max_utility to visited values\n",
    "    k-=1\n",
    "    return max_child , max_utility , k\n",
    "\n",
    "\n",
    "def Minimize(state,k):\n",
    "    if k == 0 or terminal_test(state):\n",
    "        return None,heuristic(state)\n",
    "\n",
    "    min_child,min_utility = None, math.inf\n",
    "    for child in state.children:\n",
    "        _,utility , k = Maximize(child,k)\n",
    "        if utility < min_utility :\n",
    "            min_child , min_utility = child , utility\n",
    "    k-=1\n",
    "    return min_child , min_utility , k\n",
    "\n",
    "def Maximize_alpha_beta(state,alpha=-math.inf,beta=math.inf,k=0):\n",
    "    if k == 0 or terminal_test(state):\n",
    "        return None,heuristic(state)\n",
    "    max_child,max_utility = None, -math.inf\n",
    "    for child in state.children:\n",
    "        _ , utility , alpha , beta , k = Minimize_alpha_beta(child,alpha,beta,k)\n",
    "        if utility > max_utility :\n",
    "            max_child , max_utility = child , utility\n",
    "        if max_utility >= beta:\n",
    "            break\n",
    "        if max_utility > alpha: \n",
    "            alpha = max_utility\n",
    "    k-=1\n",
    "    return max_child , max_utility , alpha , beta , k\n",
    "\n",
    "def Minimize_alpha_beta(state,alpha=-math.inf,beta=math.inf,k=0):\n",
    "    if k == 0 or terminal_test(state):\n",
    "        return None,heuristic(state)\n",
    "    min_child,min_utility = None, math.inf\n",
    "    for child in state.children:\n",
    "        _, utility , alpha , beta , k = Maximize_alpha_beta(child,alpha,beta,k)\n",
    "        if utility < min_utility :\n",
    "            min_child , min_utility = child , utility\n",
    "        if min_utility <= alpha:\n",
    "            break\n",
    "        if min_utility < beta: \n",
    "            beta = min_utility\n",
    "    k-=1\n",
    "    return min_child , min_utility , alpha , beta , k\n",
    "\n",
    "def terminal_test(state):\n",
    "    # check for winning only\n",
    "    pass\n",
    "def heuristic(state):\n",
    "    # returns an int, +ve points for max , -ve points for min\n",
    "    pass"
   ]
  },
  {
   "cell_type": "code",
   "execution_count": 4,
   "id": "c662bbc7-1cf5-42bf-b407-6fb2aef9b07c",
   "metadata": {},
   "outputs": [
    {
     "name": "stdout",
     "output_type": "stream",
     "text": [
      "xYZ\n"
     ]
    }
   ],
   "source": [
    "def func(x):\n",
    "    x = list(x)\n",
    "    x[0] = \"X\"\n",
    "    x = str(x)\n",
    "x = \"xYZ\"\n",
    "x = func(x)\n",
    "print(x)"
   ]
  },
  {
   "cell_type": "code",
   "execution_count": null,
   "id": "69ce48b3-99a4-403e-b901-7ca24af4b9c2",
   "metadata": {},
   "outputs": [],
   "source": []
  }
 ],
 "metadata": {
  "kernelspec": {
   "display_name": "Python 3 (ipykernel)",
   "language": "python",
   "name": "python3"
  },
  "language_info": {
   "codemirror_mode": {
    "name": "ipython",
    "version": 3
   },
   "file_extension": ".py",
   "mimetype": "text/x-python",
   "name": "python",
   "nbconvert_exporter": "python",
   "pygments_lexer": "ipython3",
   "version": "3.9.16"
  }
 },
 "nbformat": 4,
 "nbformat_minor": 5
}
